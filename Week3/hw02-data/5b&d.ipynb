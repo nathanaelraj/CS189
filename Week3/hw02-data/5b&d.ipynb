{
 "cells": [
  {
   "cell_type": "code",
   "execution_count": 1,
   "metadata": {},
   "outputs": [
    {
     "data": {
      "text/plain": [
       "{'__globals__': [],\n",
       " '__header__': b'MATLAB 5.0 MAT-file Platform: posix, Created on: Thu Sep  7 14:29:37 2017',\n",
       " '__version__': '1.0',\n",
       " 'x_train': array([[-1.        , -0.89473684, -0.78947368, -0.68421053, -0.57894737,\n",
       "         -0.47368421, -0.36842105, -0.26315789, -0.15789474, -0.05263158,\n",
       "          0.05263158,  0.15789474,  0.26315789,  0.36842105,  0.47368421,\n",
       "          0.57894737,  0.68421053,  0.78947368,  0.89473684,  1.        ]]),\n",
       " 'y_fresh': array([[ 13.32997656],\n",
       "        [  9.69177878],\n",
       "        [  6.13008597],\n",
       "        [  6.59286006],\n",
       "        [  8.59227616],\n",
       "        [  4.68187364],\n",
       "        [  8.31154698],\n",
       "        [  8.50896101],\n",
       "        [  8.22909206],\n",
       "        [  9.74321854],\n",
       "        [  9.9737423 ],\n",
       "        [ 11.33524697],\n",
       "        [ 10.65433427],\n",
       "        [ 12.37383451],\n",
       "        [ 13.29269622],\n",
       "        [ 17.31711477],\n",
       "        [ 21.33661794],\n",
       "        [ 23.50094073],\n",
       "        [ 33.58199526],\n",
       "        [ 41.27664699]]),\n",
       " 'y_train': array([[ 11.43517643],\n",
       "        [  9.15939136],\n",
       "        [  7.79121686],\n",
       "        [  7.64604858],\n",
       "        [  7.2842167 ],\n",
       "        [  7.64649196],\n",
       "        [  8.2666563 ],\n",
       "        [  7.86691196],\n",
       "        [  8.30315368],\n",
       "        [  9.72401144],\n",
       "        [  9.50953025],\n",
       "        [ 10.25750217],\n",
       "        [ 11.22305493],\n",
       "        [ 14.01833207],\n",
       "        [ 16.10368296],\n",
       "        [ 15.80407223],\n",
       "        [ 21.97631689],\n",
       "        [ 25.46609601],\n",
       "        [ 34.03048174],\n",
       "        [ 42.56554904]])}"
      ]
     },
     "execution_count": 1,
     "metadata": {},
     "output_type": "execute_result"
    }
   ],
   "source": [
    "import numpy.linalg as nl\n",
    "import numpy as np\n",
    "\n",
    "import scipy.io as sio\n",
    "\n",
    "mat_contents = sio.loadmat('1D_poly_new.mat')\n",
    "mat_contents"
   ]
  },
  {
   "cell_type": "code",
   "execution_count": 2,
   "metadata": {
    "collapsed": true
   },
   "outputs": [],
   "source": [
    "def poly_features(X_train, D):\n",
    "    n = X_train.size\n",
    "    X = np.empty([n,D+1], dtype=float)\n",
    "    for i in range(0,n):\n",
    "        for j in range (0, D+1):\n",
    "            X[i][j] = X_train[i]**j\n",
    "    return X"
   ]
  },
  {
   "cell_type": "code",
   "execution_count": 3,
   "metadata": {},
   "outputs": [
    {
     "data": {
      "text/plain": [
       "array([-1.        , -0.89473684, -0.78947368, -0.68421053, -0.57894737,\n",
       "       -0.47368421, -0.36842105, -0.26315789, -0.15789474, -0.05263158,\n",
       "        0.05263158,  0.15789474,  0.26315789,  0.36842105,  0.47368421,\n",
       "        0.57894737,  0.68421053,  0.78947368,  0.89473684,  1.        ])"
      ]
     },
     "execution_count": 3,
     "metadata": {},
     "output_type": "execute_result"
    }
   ],
   "source": [
    "X_train = mat_contents['x_train'][0]\n",
    "X_train"
   ]
  },
  {
   "cell_type": "code",
   "execution_count": 4,
   "metadata": {},
   "outputs": [
    {
     "data": {
      "text/plain": [
       "array([[ 11.43517643],\n",
       "       [  9.15939136],\n",
       "       [  7.79121686],\n",
       "       [  7.64604858],\n",
       "       [  7.2842167 ],\n",
       "       [  7.64649196],\n",
       "       [  8.2666563 ],\n",
       "       [  7.86691196],\n",
       "       [  8.30315368],\n",
       "       [  9.72401144],\n",
       "       [  9.50953025],\n",
       "       [ 10.25750217],\n",
       "       [ 11.22305493],\n",
       "       [ 14.01833207],\n",
       "       [ 16.10368296],\n",
       "       [ 15.80407223],\n",
       "       [ 21.97631689],\n",
       "       [ 25.46609601],\n",
       "       [ 34.03048174],\n",
       "       [ 42.56554904]])"
      ]
     },
     "execution_count": 4,
     "metadata": {},
     "output_type": "execute_result"
    }
   ],
   "source": [
    "Y_train = mat_contents['y_train']\n",
    "Y_train"
   ]
  },
  {
   "cell_type": "code",
   "execution_count": 7,
   "metadata": {},
   "outputs": [
    {
     "data": {
      "text/plain": [
       "array([[ 13.32997656],\n",
       "       [  9.69177878],\n",
       "       [  6.13008597],\n",
       "       [  6.59286006],\n",
       "       [  8.59227616],\n",
       "       [  4.68187364],\n",
       "       [  8.31154698],\n",
       "       [  8.50896101],\n",
       "       [  8.22909206],\n",
       "       [  9.74321854],\n",
       "       [  9.9737423 ],\n",
       "       [ 11.33524697],\n",
       "       [ 10.65433427],\n",
       "       [ 12.37383451],\n",
       "       [ 13.29269622],\n",
       "       [ 17.31711477],\n",
       "       [ 21.33661794],\n",
       "       [ 23.50094073],\n",
       "       [ 33.58199526],\n",
       "       [ 41.27664699]])"
      ]
     },
     "execution_count": 7,
     "metadata": {},
     "output_type": "execute_result"
    }
   ],
   "source": [
    "Y_fresh = mat_contents['y_fresh']\n",
    "Y_fresh"
   ]
  },
  {
   "cell_type": "code",
   "execution_count": 17,
   "metadata": {
    "scrolled": true
   },
   "outputs": [
    {
     "name": "stdout",
     "output_type": "stream",
     "text": [
      "715.311739323\n",
      "127.37251718\n",
      "84.9496764632\n",
      "32.8408010173\n",
      "33.8887167339\n",
      "34.0657730195\n",
      "33.9143904603\n",
      "34.875615768\n",
      "34.9208924933\n",
      "34.1713490657\n",
      "34.7449584719\n",
      "35.3250810741\n",
      "36.1079517849\n",
      "40.612750642\n",
      "38.1697094118\n",
      "40.8519336512\n",
      "40.0171639687\n",
      "39.8259959702\n"
     ]
    },
    {
     "data": {
      "image/png": "[encoded data removed]",
      "text/plain": [
       "<matplotlib.figure.Figure at 0x7f7b55a02c50>"
      ]
     },
     "metadata": {},
     "output_type": "display_data"
    },
    {
     "data": {
      "text/plain": [
       "[35.76558696614021,\n",
       " 6.368625859004921,\n",
       " 4.247483823159504,\n",
       " 1.6420400508665298,\n",
       " 1.6944358366935788,\n",
       " 1.703288650974251,\n",
       " 1.6957195230148385,\n",
       " 1.7437807883999146,\n",
       " 1.7460446246652233,\n",
       " 1.7085674532866437,\n",
       " 1.7372479235974232,\n",
       " 1.7662540537055977,\n",
       " 1.8053975892430305,\n",
       " 2.030637532101117,\n",
       " 1.9084854705909318,\n",
       " 2.0425966825578366,\n",
       " 2.0008581984338107,\n",
       " 1.9912997985111247]"
      ]
     },
     "execution_count": 17,
     "metadata": {},
     "output_type": "execute_result"
    }
   ],
   "source": [
    "import numpy.linalg as nl\n",
    "residuals = []\n",
    "degree = []\n",
    "weights = []\n",
    "n = X_train.size\n",
    "for d in range(1, 19):\n",
    "    X = poly_features(X_train, d)\n",
    "    res = nl.lstsq(X, Y_train)[1]\n",
    "    wt = nl.lstsq(X, Y_train)[0]\n",
    "    residuals.append(float(res/n))\n",
    "    degree.append(d)\n",
    "    weights.append(wt)\n",
    "    \n",
    "import matplotlib.pyplot as plt\n",
    "plt.plot(degree, residuals)\n",
    "plt.axis([0, 20, 0, 40])\n",
    "#plt.show()\n",
    "#print(weights)\n",
    "residuals = []\n",
    "degree = []\n",
    "for d in range(1, 19):\n",
    "    X = poly_features(X_train, d)\n",
    "    y_predicted = X.dot(weights[d-1])\n",
    "    error = nl.norm(Y_fresh-y_predicted) ** 2\n",
    "    print(error)\n",
    "    residuals.append(float(error/n))\n",
    "    degree.append(d)\n",
    "import matplotlib.pyplot as plt\n",
    "plt.plot(degree, residuals)\n",
    "plt.axis([0, 20, 0, 40])\n",
    "plt.show()"
   ]
  },
  {
   "cell_type": "code",
   "execution_count": null,
   "metadata": {
    "collapsed": true
   },
   "outputs": [],
   "source": []
  },
  {
   "cell_type": "code",
   "execution_count": null,
   "metadata": {
    "collapsed": true
   },
   "outputs": [],
   "source": []
  }
 ],
 "metadata": {
  "kernelspec": {
   "display_name": "Python 3",
   "language": "python",
   "name": "python3"
  },
  "language_info": {
   "codemirror_mode": {
    "name": "ipython",
    "version": 3
   },
   "file_extension": ".py",
   "mimetype": "text/x-python",
   "name": "python",
   "nbconvert_exporter": "python",
   "pygments_lexer": "ipython3",
   "version": "3.6.1"
  }
 },
 "nbformat": 4,
 "nbformat_minor": 2
}
