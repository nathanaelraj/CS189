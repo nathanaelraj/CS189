{
 "cells": [
  {
   "cell_type": "code",
   "execution_count": 1,
   "metadata": {},
   "outputs": [
    {
     "data": {
      "text/plain": [
       "{'__globals__': [],\n",
       " '__header__': b'MATLAB 5.0 MAT-file, Platform: MACI64, Created on: Fri Sep  1 15:17:33 2017',\n",
       " '__version__': '1.0',\n",
       " 'x': array([[-0.0963728 , -0.08653028, -0.0311563 , -0.04982882, -0.06423248],\n",
       "        [-0.01914529,  0.04967885,  0.00363335, -0.04549159,  0.05396517],\n",
       "        [ 0.08841612,  0.02585844, -0.00017123, -0.04069409, -0.09145454],\n",
       "        ..., \n",
       "        [-0.02372765,  0.05880506,  0.06872046, -0.08455554, -0.06840088],\n",
       "        [ 0.05271218, -0.02336013, -0.06770073, -0.09082807,  0.05144121],\n",
       "        [-0.05857526, -0.05709096, -0.02838865,  0.01909572, -0.04962651]]),\n",
       " 'y': array([[ 0.95170245],\n",
       "        [ 1.23652314],\n",
       "        [-0.34383271],\n",
       "        ..., \n",
       "        [ 0.99606357],\n",
       "        [ 1.13095857],\n",
       "        [ 1.09124217]])}"
      ]
     },
     "execution_count": 1,
     "metadata": {},
     "output_type": "execute_result"
    }
   ],
   "source": [
    "import numpy.linalg as nl\n",
    "import numpy as np\n",
    "\n",
    "import scipy.io as sio\n",
    "\n",
    "mat_contents = sio.loadmat('polynomial_regression_samples.mat')\n",
    "mat_contents"
   ]
  },
  {
   "cell_type": "code",
   "execution_count": 2,
   "metadata": {},
   "outputs": [
    {
     "name": "stdout",
     "output_type": "stream",
     "text": [
      "(100000, 6)\n"
     ]
    }
   ],
   "source": [
    "x_train = mat_contents['x']\n",
    "a = np.ones((100000,1))\n",
    "\n",
    "x_train = np.hstack((a,x_train))\n",
    "print(x_train.shape)\n",
    "x1 = x_train[0:25000]\n",
    "x2 = x_train[25000:50000]\n",
    "x3 = x_train[50000:75000]\n",
    "x4 = x_train[75000:]\n",
    "x_train1 = np.concatenate([x1,x2,x3])\n",
    "x_test1 = x4\n",
    "\n",
    "x_train2 = np.concatenate([x1,x2,x4])\n",
    "x_test2 = x3\n",
    "\n",
    "x_train3 = np.concatenate([x1,x3,x4])\n",
    "x_test3 = x2\n",
    "\n",
    "x_train4 = np.concatenate([x2,x3,x4])\n",
    "x_test4 = x1\n",
    "\n",
    "x_train_fold = [x_train1, x_train2, x_train3, x_train4]\n",
    "x_test_fold = [x_test1, x_test2, x_test3, x_test4]\n"
   ]
  },
  {
   "cell_type": "code",
   "execution_count": 3,
   "metadata": {},
   "outputs": [],
   "source": [
    "y_train = mat_contents['y']\n",
    "y1 = y_train[0:25000]\n",
    "y2 = y_train[25000:50000]\n",
    "y3 = y_train[50000:75000]\n",
    "y4 = y_train[75000:]\n",
    "\n",
    "y_train1 = np.concatenate([y1,y2,y3])\n",
    "y_test1 = y4\n",
    "\n",
    "y_train2 = np.concatenate([y1,y2,y4])\n",
    "y_test2 = y3\n",
    "\n",
    "y_train3 = np.concatenate([y1,y3,y4])\n",
    "y_test3 = y2\n",
    "\n",
    "y_train4 = np.concatenate([y2,y3,y4])\n",
    "y_test4 = y1\n",
    "\n",
    "y_train_fold = [y_train1, y_train2, y_train3, y_train4]\n",
    "y_test_fold = [y_test1, y_test2, y_test3, y_test4]\n"
   ]
  },
  {
   "cell_type": "code",
   "execution_count": 17,
   "metadata": {},
   "outputs": [
    {
     "name": "stdout",
     "output_type": "stream",
     "text": [
      "(75000, 6) (75000, 6)\n",
      "(25000, 6) (25000, 6)\n",
      "1 0.0588531945865\n",
      "(75000, 6) (75000, 6)\n",
      "(25000, 6) (25000, 6)\n",
      "1 0.0566856932332\n",
      "(75000, 6) (75000, 6)\n",
      "(25000, 6) (25000, 6)\n",
      "1 0.0574762117211\n",
      "(75000, 6) (75000, 6)\n",
      "(25000, 6) (25000, 6)\n",
      "1 0.0612836428783\n",
      "(75000, 21) (75000, 6)\n",
      "(25000, 21) (25000, 6)\n",
      "2 0.0588032377333\n",
      "(75000, 21) (75000, 6)\n",
      "(25000, 21) (25000, 6)\n",
      "2 0.0566613706838\n",
      "(75000, 21) (75000, 6)\n",
      "(25000, 21) (25000, 6)\n",
      "2 0.057403031146\n",
      "(75000, 21) (75000, 6)\n",
      "(25000, 21) (25000, 6)\n",
      "2 0.0612139104973\n",
      "(75000, 56) (75000, 6)\n",
      "(25000, 56) (25000, 6)\n",
      "3 0.0588034348557\n",
      "(75000, 56) (75000, 6)\n",
      "(25000, 56) (25000, 6)\n",
      "3 0.0566614503753\n",
      "(75000, 56) (75000, 6)\n",
      "(25000, 56) (25000, 6)\n",
      "3 0.0574028388038\n",
      "(75000, 56) (75000, 6)\n",
      "(25000, 56) (25000, 6)\n",
      "3 0.061213564804\n",
      "(75000, 126) (75000, 6)\n",
      "(25000, 126) (25000, 6)\n",
      "4 0.0588034323769\n",
      "(75000, 126) (75000, 6)\n",
      "(25000, 126) (25000, 6)\n",
      "4 0.0566614498445\n",
      "(75000, 126) (75000, 6)\n",
      "(25000, 126) (25000, 6)\n",
      "4 0.0574028368907\n",
      "(75000, 126) (75000, 6)\n",
      "(25000, 126) (25000, 6)\n",
      "4 0.0612135622845\n"
     ]
    }
   ],
   "source": [
    "import itertools\n",
    "\n",
    "def poly_mv_features(X_train, D):\n",
    "    n = X_train.shape[0]\n",
    "    columns = len(list(itertools.combinations_with_replacement([0,1,2,3,4,5], D)))\n",
    "    X = np.empty([n, columns], dtype=float)\n",
    "    print(X.shape, X_train.shape)\n",
    "    combinations =  list(itertools.combinations_with_replacement([0,1,2,3,4,5], D))\n",
    "    for row_num in range(n):\n",
    "        for i,combi in enumerate(combinations):\n",
    "            column_value = 1\n",
    "            for column_num in combi:\n",
    "                #print(column_num)\n",
    "                column_value *= X_train[row_num][column_num]\n",
    "            X[row_num][i] = column_value   \n",
    "    return X\n",
    "\n",
    "def error(X, y_true, weights):\n",
    "    y_predicted = X.dot(weights)\n",
    "    error = nl.norm(y_true-y_predicted) ** 2\n",
    "    return error\n",
    "\n",
    "def ridge(X, y, l):\n",
    "    sizeidentity = X.shape[1]\n",
    "    Xt = np.transpose(X)\n",
    "    w = nl.inv(Xt.dot(X) + l*np.identity(sizeidentity)).dot(Xt).dot(y)\n",
    "    return w\n",
    "\n",
    "error_terms = []\n",
    "degree = []\n",
    "weights = []\n",
    "n = x_train.shape[0]\n",
    "for d in range(1, 5):\n",
    "    total_error = 0\n",
    "    for x_trainf,x_testf,y_trainf,y_testf in zip(x_train_fold, x_test_fold, y_train_fold, y_test_fold):        \n",
    "        X = poly_mv_features(x_trainf, d)\n",
    "        wt = ridge(X, y_trainf, 0.1)\n",
    "        weights.append(wt)\n",
    "        X_testf = poly_mv_features(x_testf, d)\n",
    "        err = error(X_testf, y_testf, wt)/25000\n",
    "        print(d, err)\n",
    "        total_error += err\n",
    "    error_terms.append(total_error/4)\n",
    "    "
   ]
  },
  {
   "cell_type": "code",
   "execution_count": 16,
   "metadata": {},
   "outputs": [
    {
     "data": {
      "text/plain": [
       "4"
      ]
     },
     "execution_count": 16,
     "metadata": {},
     "output_type": "execute_result"
    }
   ],
   "source": [
    "#the degree that resulted in the lowest average error was 4 \n",
    "error_terms.index(min(error_terms))+1"
   ]
  },
  {
   "cell_type": "code",
   "execution_count": 14,
   "metadata": {},
   "outputs": [
    {
     "data": {
      "text/plain": [
       "[1464.367140119178, 1463.0096878773197, 1463.0080552430363, 1463.0080087284905]"
      ]
     },
     "execution_count": 14,
     "metadata": {},
     "output_type": "execute_result"
    }
   ],
   "source": [
    "error_terms"
   ]
  },
  {
   "cell_type": "code",
   "execution_count": null,
   "metadata": {
    "collapsed": true
   },
   "outputs": [],
   "source": []
  }
 ],
 "metadata": {
  "kernelspec": {
   "display_name": "Python 3",
   "language": "python",
   "name": "python3"
  },
  "language_info": {
   "codemirror_mode": {
    "name": "ipython",
    "version": 3
   },
   "file_extension": ".py",
   "mimetype": "text/x-python",
   "name": "python",
   "nbconvert_exporter": "python",
   "pygments_lexer": "ipython3",
   "version": "3.6.1"
  }
 },
 "nbformat": 4,
 "nbformat_minor": 2
}
