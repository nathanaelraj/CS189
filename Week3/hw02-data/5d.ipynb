{
 "cells": [
  {
   "cell_type": "code",
   "execution_count": 1,
   "metadata": {},
   "outputs": [
    {
     "data": {
      "text/plain": [
       "{'__globals__': [],\n",
       " '__header__': b'MATLAB 5.0 MAT-file Platform: posix, Created on: Thu Sep  7 14:29:37 2017',\n",
       " '__version__': '1.0',\n",
       " 'x_train': array([[-1.        , -0.89473684, -0.78947368, -0.68421053, -0.57894737,\n",
       "         -0.47368421, -0.36842105, -0.26315789, -0.15789474, -0.05263158,\n",
       "          0.05263158,  0.15789474,  0.26315789,  0.36842105,  0.47368421,\n",
       "          0.57894737,  0.68421053,  0.78947368,  0.89473684,  1.        ]]),\n",
       " 'y_fresh': array([[ 13.32997656],\n",
       "        [  9.69177878],\n",
       "        [  6.13008597],\n",
       "        [  6.59286006],\n",
       "        [  8.59227616],\n",
       "        [  4.68187364],\n",
       "        [  8.31154698],\n",
       "        [  8.50896101],\n",
       "        [  8.22909206],\n",
       "        [  9.74321854],\n",
       "        [  9.9737423 ],\n",
       "        [ 11.33524697],\n",
       "        [ 10.65433427],\n",
       "        [ 12.37383451],\n",
       "        [ 13.29269622],\n",
       "        [ 17.31711477],\n",
       "        [ 21.33661794],\n",
       "        [ 23.50094073],\n",
       "        [ 33.58199526],\n",
       "        [ 41.27664699]]),\n",
       " 'y_train': array([[ 11.43517643],\n",
       "        [  9.15939136],\n",
       "        [  7.79121686],\n",
       "        [  7.64604858],\n",
       "        [  7.2842167 ],\n",
       "        [  7.64649196],\n",
       "        [  8.2666563 ],\n",
       "        [  7.86691196],\n",
       "        [  8.30315368],\n",
       "        [  9.72401144],\n",
       "        [  9.50953025],\n",
       "        [ 10.25750217],\n",
       "        [ 11.22305493],\n",
       "        [ 14.01833207],\n",
       "        [ 16.10368296],\n",
       "        [ 15.80407223],\n",
       "        [ 21.97631689],\n",
       "        [ 25.46609601],\n",
       "        [ 34.03048174],\n",
       "        [ 42.56554904]])}"
      ]
     },
     "execution_count": 1,
     "metadata": {},
     "output_type": "execute_result"
    }
   ],
   "source": [
    "import numpy.linalg as nl\n",
    "import numpy as np\n",
    "\n",
    "import scipy.io as sio\n",
    "\n",
    "mat_contents = sio.loadmat('1D_poly_new.mat')\n",
    "mat_contents"
   ]
  },
  {
   "cell_type": "code",
   "execution_count": 2,
   "metadata": {
    "collapsed": true
   },
   "outputs": [],
   "source": [
    "def poly_features(X_train, D):\n",
    "    n = X_train.size\n",
    "    X = np.empty([n,D+1], dtype=float)\n",
    "    for i in range(0,n):\n",
    "        for j in range (0, D+1):\n",
    "            X[i][j] = X_train[i]**j\n",
    "    return X"
   ]
  },
  {
   "cell_type": "code",
   "execution_count": 3,
   "metadata": {},
   "outputs": [
    {
     "data": {
      "text/plain": [
       "array([-1.        , -0.89473684, -0.78947368, -0.68421053, -0.57894737,\n",
       "       -0.47368421, -0.36842105, -0.26315789, -0.15789474, -0.05263158,\n",
       "        0.05263158,  0.15789474,  0.26315789,  0.36842105,  0.47368421,\n",
       "        0.57894737,  0.68421053,  0.78947368,  0.89473684,  1.        ])"
      ]
     },
     "execution_count": 3,
     "metadata": {},
     "output_type": "execute_result"
    }
   ],
   "source": [
    "X_train = mat_contents['x_train'][0]\n",
    "X_train"
   ]
  },
  {
   "cell_type": "code",
   "execution_count": 6,
   "metadata": {},
   "outputs": [
    {
     "data": {
      "text/plain": [
       "array([[ 13.32997656],\n",
       "       [  9.69177878],\n",
       "       [  6.13008597],\n",
       "       [  6.59286006],\n",
       "       [  8.59227616],\n",
       "       [  4.68187364],\n",
       "       [  8.31154698],\n",
       "       [  8.50896101],\n",
       "       [  8.22909206],\n",
       "       [  9.74321854],\n",
       "       [  9.9737423 ],\n",
       "       [ 11.33524697],\n",
       "       [ 10.65433427],\n",
       "       [ 12.37383451],\n",
       "       [ 13.29269622],\n",
       "       [ 17.31711477],\n",
       "       [ 21.33661794],\n",
       "       [ 23.50094073],\n",
       "       [ 33.58199526],\n",
       "       [ 41.27664699]])"
      ]
     },
     "execution_count": 6,
     "metadata": {},
     "output_type": "execute_result"
    }
   ],
   "source": [
    "Y_fresh = mat_contents['y_fresh']\n",
    "Y_fresh"
   ]
  },
  {
   "cell_type": "code",
   "execution_count": 1,
   "metadata": {},
   "outputs": [
    {
     "ename": "NameError",
     "evalue": "name 'X_train' is not defined",
     "output_type": "error",
     "traceback": [
      "\u001b[0;31m---------------------------------------------------------------------------\u001b[0m",
      "\u001b[0;31mNameError\u001b[0m                                 Traceback (most recent call last)",
      "\u001b[0;32m<ipython-input-1-8651576c2d75>\u001b[0m in \u001b[0;36m<module>\u001b[0;34m()\u001b[0m\n\u001b[1;32m      2\u001b[0m \u001b[0mresiduals\u001b[0m \u001b[0;34m=\u001b[0m \u001b[0;34m[\u001b[0m\u001b[0;34m]\u001b[0m\u001b[0;34m\u001b[0m\u001b[0m\n\u001b[1;32m      3\u001b[0m \u001b[0mdegree\u001b[0m \u001b[0;34m=\u001b[0m \u001b[0;34m[\u001b[0m\u001b[0;34m]\u001b[0m\u001b[0;34m\u001b[0m\u001b[0m\n\u001b[0;32m----> 4\u001b[0;31m \u001b[0mn\u001b[0m \u001b[0;34m=\u001b[0m \u001b[0mX_train\u001b[0m\u001b[0;34m.\u001b[0m\u001b[0msize\u001b[0m\u001b[0;34m\u001b[0m\u001b[0m\n\u001b[0m\u001b[1;32m      5\u001b[0m \u001b[0;32mfor\u001b[0m \u001b[0md\u001b[0m \u001b[0;32min\u001b[0m \u001b[0mrange\u001b[0m\u001b[0;34m(\u001b[0m\u001b[0;36m1\u001b[0m\u001b[0;34m,\u001b[0m \u001b[0;36m19\u001b[0m\u001b[0;34m)\u001b[0m\u001b[0;34m:\u001b[0m\u001b[0;34m\u001b[0m\u001b[0m\n\u001b[1;32m      6\u001b[0m     \u001b[0mX\u001b[0m \u001b[0;34m=\u001b[0m \u001b[0mpoly_features\u001b[0m\u001b[0;34m(\u001b[0m\u001b[0mX_train\u001b[0m\u001b[0;34m,\u001b[0m \u001b[0md\u001b[0m\u001b[0;34m)\u001b[0m\u001b[0;34m\u001b[0m\u001b[0m\n",
      "\u001b[0;31mNameError\u001b[0m: name 'X_train' is not defined"
     ]
    }
   ],
   "source": [
    "import numpy.linalg as nl\n",
    "residuals = []\n",
    "degree = []\n",
    "n = X_train.size\n",
    "for d in range(1, 19):\n",
    "    X = poly_features(X_train, d)\n",
    "    res = nl.lstsq(X, Y_fresh)[1]\n",
    "    residuals.append(float(res/n))\n",
    "    degree.append(d)\n",
    "import matplotlib.pyplot as plt\n",
    "plt.plot(degree, residuals)\n",
    "plt.axis([0, 20, 0, 40])\n",
    "plt.show()\n",
    "residuals"
   ]
  },
  {
   "cell_type": "code",
   "execution_count": null,
   "metadata": {
    "collapsed": true
   },
   "outputs": [],
   "source": []
  }
 ],
 "metadata": {
  "kernelspec": {
   "display_name": "Python 3",
   "language": "python",
   "name": "python3"
  },
  "language_info": {
   "codemirror_mode": {
    "name": "ipython",
    "version": 3
   },
   "file_extension": ".py",
   "mimetype": "text/x-python",
   "name": "python",
   "nbconvert_exporter": "python",
   "pygments_lexer": "ipython3",
   "version": "3.6.1"
  }
 },
 "nbformat": 4,
 "nbformat_minor": 2
}
