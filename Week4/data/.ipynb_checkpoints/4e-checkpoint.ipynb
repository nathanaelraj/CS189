{
 "cells": [
  {
   "cell_type": "code",
   "execution_count": 11,
   "metadata": {},
   "outputs": [
    {
     "data": {
      "text/plain": [
       "array([[ 0.44174357,  0.58925996,  0.86180136,  0.816865  ,  0.96218562],\n",
       "       [ 0.34418325,  0.10140261,  0.08875417,  0.22670572,  0.1656631 ],\n",
       "       [ 0.33284805,  0.01177713,  0.02425227,  0.02140075,  0.0319447 ],\n",
       "       [ 0.33929446,  0.00381764,  0.00445864,  0.00563399,  0.00683963]])"
      ]
     },
     "execution_count": 11,
     "metadata": {},
     "output_type": "execute_result"
    }
   ],
   "source": [
    "import numpy as np\n",
    "def gen_samples(n, w, b):\n",
    "    X = 2*np.random.rand(n)-1\n",
    "    Ytrue = X*w + b \n",
    "    Y = Ytrue + np.random.normal(0,1,n)\n",
    "    return X,Y,Ytrue\n",
    "\n",
    "\n",
    "def avg_error(A, pi, Ytrue):\n",
    "    dist = nl.norm(A.dot(pi) - Ytrue) **2\n",
    "    return dist/A.shape[0]\n",
    "\n",
    "def poly_features(X_train, D):\n",
    "    n = X_train.size\n",
    "    X = np.empty([n,D+1], dtype=float)\n",
    "    for i in range(0,n):\n",
    "        for j in range (0, D+1):\n",
    "            X[i][j] = X_train[i]**j\n",
    "    return X\n",
    "\n",
    "import numpy.linalg as nl\n",
    "\n",
    "results = np.empty([4,5])\n",
    "for i in range(1,5):\n",
    "    n = 5**i\n",
    "    for j in range (0,5):\n",
    "        D = j\n",
    "        total = 0\n",
    "        for k in range(0,5):\n",
    "            X,Y,Ytrue = gen_samples(n, 1, 1)\n",
    "            A = poly_features(X, D)\n",
    "            pi = nl.lstsq(A,Y)[0]\n",
    "            total += avg_error(A,pi,Ytrue)\n",
    "        results[i-1][j] = total/5\n",
    "results\n",
    "\n"
   ]
  },
  {
   "cell_type": "code",
   "execution_count": null,
   "metadata": {
    "collapsed": true
   },
   "outputs": [],
   "source": []
  }
 ],
 "metadata": {
  "kernelspec": {
   "display_name": "Python 3",
   "language": "python",
   "name": "python3"
  },
  "language_info": {
   "codemirror_mode": {
    "name": "ipython",
    "version": 3
   },
   "file_extension": ".py",
   "mimetype": "text/x-python",
   "name": "python",
   "nbconvert_exporter": "python",
   "pygments_lexer": "ipython3",
   "version": "3.6.1"
  }
 },
 "nbformat": 4,
 "nbformat_minor": 2
}
