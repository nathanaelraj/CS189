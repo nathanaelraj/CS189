{
 "cells": [
  {
   "cell_type": "code",
   "execution_count": 56,
   "metadata": {},
   "outputs": [
    {
     "name": "stdout",
     "output_type": "stream",
     "text": [
      "5\n",
      "[ 3.08955778 -0.12686585]\n",
      "25\n",
      "[ 3.00604822  1.80561205]\n",
      "125\n",
      "[ 3.00119691  1.91083591]\n",
      "625\n",
      "[ 3.0001249   1.95101606]\n",
      "[3.0895577787823809, 3.0060482210272363, 3.0011969087467985, 3.0001249021733458] [-0.12686585457532543, 1.8056120543622538, 1.9108359137727662, 1.9510160582202176]\n"
     ]
    },
    {
     "data": {
      "image/png": "[encoded data removed]",
      "text/plain": [
       "<matplotlib.figure.Figure at 0x7ffa07971358>"
      ]
     },
     "metadata": {},
     "output_type": "display_data"
    }
   ],
   "source": [
    "import numpy as np\n",
    "def gen_samples(n, w, b, interval):\n",
    "    X = np.arange(20, 20+ n, 1)\n",
    "    Y = X*w + b \n",
    "    Y = Y + (np.random.rand(n)-0.5)\n",
    "    X = np.vstack((X,np.ones(n)))\n",
    "    return X,Y\n",
    "import numpy.linalg as nl\n",
    "\n",
    "w_list = []\n",
    "b_list = []\n",
    "for i in range(1,5):\n",
    "    n = 5**i\n",
    "    print(n)\n",
    "    X,Y = gen_samples(n, 3, 2, 0.5)\n",
    "    X = np.transpose(X)\n",
    "    W = nl.lstsq(X,Y)[0]\n",
    "    print(W)\n",
    "    w_list.append(W[0])\n",
    "    b_list.append(W[1])\n",
    "print(w_list, b_list)\n",
    "import matplotlib.pyplot as plt\n",
    "plt.scatter(w_list, b_list)\n",
    "plt.axis([1, 4, 1.5, 3.5])\n",
    "plt.show()"
   ]
  },
  {
   "cell_type": "code",
   "execution_count": null,
   "metadata": {
    "collapsed": true
   },
   "outputs": [],
   "source": []
  },
  {
   "cell_type": "code",
   "execution_count": null,
   "metadata": {
    "collapsed": true
   },
   "outputs": [],
   "source": []
  }
 ],
 "metadata": {
  "kernelspec": {
   "display_name": "Python 3",
   "language": "python",
   "name": "python3"
  },
  "language_info": {
   "codemirror_mode": {
    "name": "ipython",
    "version": 3
   },
   "file_extension": ".py",
   "mimetype": "text/x-python",
   "name": "python",
   "nbconvert_exporter": "python",
   "pygments_lexer": "ipython3",
   "version": "3.6.1"
  }
 },
 "nbformat": 4,
 "nbformat_minor": 2
}
