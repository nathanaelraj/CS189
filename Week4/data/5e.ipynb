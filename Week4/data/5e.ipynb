{
 "cells": [
  {
   "cell_type": "code",
   "execution_count": 3,
   "metadata": {},
   "outputs": [
    {
     "name": "stdout",
     "output_type": "stream",
     "text": [
      "(62, 2700)\n",
      "0.1\n",
      "0.868077068492\n",
      "1.0\n",
      "0.862102932964\n",
      "10.0\n",
      "0.827507615938\n",
      "100.0\n",
      "0.72465308533\n",
      "1000.0\n",
      "0.725014200512\n"
     ]
    }
   ],
   "source": [
    "import pickle\n",
    "import numpy as np\n",
    "\n",
    "x_train = pickle.load(open('x_train.p', 'rb'), encoding='latin1')\n",
    "x_list = []\n",
    "\n",
    "for x in x_train:\n",
    "    x_list.append(np.ndarray.flatten(x))\n",
    "\n",
    "X = np.vstack(tuple(x_list))\n",
    "X = np.matrix(X, dtype = \"float64\") * 2/255 -1\n",
    "\n",
    "x_test = pickle.load(open('x_test.p', 'rb'), encoding='latin1')\n",
    "x_test_list = []\n",
    "\n",
    "for x in x_test:\n",
    "    x_test_list.append(np.ndarray.flatten(x))\n",
    "\n",
    "X_test = np.vstack(tuple(x_test_list))\n",
    "X_test = np.matrix(X_test, dtype = \"float64\") * 2/255 -1\n",
    "\n",
    "\n",
    "y_train = pickle.load(open('y_train.p', 'rb'), encoding='latin1')\n",
    "y_list = []\n",
    "\n",
    "for y in y_train:\n",
    "    y_list.append(np.ndarray.flatten(y))\n",
    "    \n",
    "U = np.vstack(tuple(y_list))\n",
    "U = np.matrix(U, dtype = \"float64\")\n",
    "\n",
    "\n",
    "y_test = pickle.load(open('y_test.p', 'rb'), encoding='latin1')\n",
    "y_test_list = []\n",
    "\n",
    "for y in y_test:\n",
    "    y_test_list.append(np.ndarray.flatten(y))\n",
    "    \n",
    "Y_test = np.vstack(tuple(y_test_list))\n",
    "Y_test = np.matrix(Y_test, dtype = \"float64\")\n",
    "\n",
    "\n",
    "\n",
    "import numpy.linalg as nl\n",
    "\n",
    "def ridge(X, U, l):\n",
    "    sizeidentity = X.shape[1]\n",
    "    pi = nl.inv(X.T.dot(X) + l*np.identity(sizeidentity) ).dot(X.T).dot(U)\n",
    "    return pi\n",
    "\n",
    "def avg_square_eucl_dist(pi, X, U):\n",
    "    total_dist = 0\n",
    "    n = 0\n",
    "    for x, u in zip(X, U):\n",
    "        dist = nl.norm(x.dot(pi) - u)\n",
    "        total_dist += np.square(dist)\n",
    "    return total_dist/U.shape[0]\n",
    "print(X_test.shape)\n",
    "for i in range(0,5):\n",
    "    l = 0.1 * 10 **i\n",
    "    print(l)\n",
    "    pi = ridge(X, U, l)\n",
    "    print(avg_square_eucl_dist(pi, X_test, Y_test))\n"
   ]
  },
  {
   "cell_type": "code",
   "execution_count": null,
   "metadata": {
    "collapsed": true
   },
   "outputs": [],
   "source": []
  }
 ],
 "metadata": {
  "kernelspec": {
   "display_name": "Python 3",
   "language": "python",
   "name": "python3"
  },
  "language_info": {
   "codemirror_mode": {
    "name": "ipython",
    "version": 3
   },
   "file_extension": ".py",
   "mimetype": "text/x-python",
   "name": "python",
   "nbconvert_exporter": "python",
   "pygments_lexer": "ipython3",
   "version": "3.6.1"
  }
 },
 "nbformat": 4,
 "nbformat_minor": 2
}
