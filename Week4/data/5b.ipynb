{
 "cells": [
  {
   "cell_type": "code",
   "execution_count": 15,
   "metadata": {},
   "outputs": [
    {
     "name": "stdout",
     "output_type": "stream",
     "text": [
      "0.1\n",
      "2.29622432271e-10\n",
      "1.0\n",
      "8.67517246863e-13\n",
      "10.0\n",
      "1.25611242066e-11\n",
      "100.0\n",
      "1.25564230751e-09\n",
      "1000.0\n",
      "1.24593384779e-07\n"
     ]
    }
   ],
   "source": [
    "import pickle\n",
    "import numpy as np\n",
    "\n",
    "x_train = pickle.load(open('x_train.p', 'rb'), encoding='latin1')\n",
    "x_list = []\n",
    "\n",
    "for x in x_train:\n",
    "    x_list.append(np.ndarray.flatten(x))\n",
    "\n",
    "X = np.vstack(tuple(x_list))\n",
    "X = np.matrix(X, dtype = \"float64\")\n",
    "\n",
    "y_train = pickle.load(open('y_train.p', 'rb'), encoding='latin1')\n",
    "y_list = []\n",
    "\n",
    "for y in y_train:\n",
    "    y_list.append(np.ndarray.flatten(y))\n",
    "    \n",
    "U = np.vstack(tuple(y_list))\n",
    "U = np.matrix(U, dtype = \"float64\")\n",
    "\n",
    "\n",
    "import numpy.linalg as nl\n",
    "\n",
    "def ridge(X, U, l):\n",
    "    sizeidentity = X.shape[1]\n",
    "    pi = nl.inv(X.T.dot(X) + l*np.identity(sizeidentity) ).dot(X.T).dot(U)\n",
    "    return pi\n",
    "\n",
    "def avg_square_eucl_dist(pi, X, U):\n",
    "    total_dist = 0\n",
    "    n = 0\n",
    "    for x, u in zip(X, U):\n",
    "        dist = nl.norm(x.dot(pi) - u)\n",
    "        total_dist += np.square(dist)\n",
    "    return total_dist/U.shape[0]\n",
    "\n",
    "for i in range(0,5):\n",
    "    l = 0.1 * 10 **i\n",
    "    print(l)\n",
    "    pi = ridge(X, U, l)\n",
    "    print(avg_square_eucl_dist(pi, X, U))\n"
   ]
  },
  {
   "cell_type": "code",
   "execution_count": null,
   "metadata": {
    "collapsed": true
   },
   "outputs": [],
   "source": []
  }
 ],
 "metadata": {
  "kernelspec": {
   "display_name": "Python 3",
   "language": "python",
   "name": "python3"
  },
  "language_info": {
   "codemirror_mode": {
    "name": "ipython",
    "version": 3
   },
   "file_extension": ".py",
   "mimetype": "text/x-python",
   "name": "python",
   "nbconvert_exporter": "python",
   "pygments_lexer": "ipython3",
   "version": "3.6.1"
  }
 },
 "nbformat": 4,
 "nbformat_minor": 2
}
