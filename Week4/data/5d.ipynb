{
 "cells": [
  {
   "cell_type": "code",
   "execution_count": 14,
   "metadata": {},
   "outputs": [
    {
     "name": "stdout",
     "output_type": "stream",
     "text": [
      "Without standardisation, K = (52711693.1804+0j)\n",
      "With standardisation, K = (444.725931711+0j)\n"
     ]
    }
   ],
   "source": [
    "import pickle\n",
    "import numpy as np\n",
    "\n",
    "x_train = pickle.load(open('x_train.p', 'rb'), encoding='latin1')\n",
    "x_list = []\n",
    "\n",
    "for x in x_train:\n",
    "    x_list.append(np.ndarray.flatten(x))\n",
    "\n",
    "X = np.vstack(tuple(x_list))\n",
    "X = np.matrix(X, dtype = \"float64\")\n",
    "\n",
    "import numpy.linalg as nl\n",
    "\n",
    "sizeofidentity = X.shape[1]\n",
    "eigenvalues = nl.eigvals((X.T).dot(X) + 100*np.identity(sizeofidentity))\n",
    "k = np.amax(eigenvalues)/np.amin(eigenvalues)\n",
    "print(\"Without standardisation, K =\", k)\n",
    "X = X * 2/255 -1\n",
    "eigenvalues = nl.eigvals((X.T).dot(X) + 100*np.identity(sizeofidentity))\n",
    "k = np.amax(eigenvalues)/np.amin(eigenvalues)\n",
    "print(\"With standardisation, K =\", k)"
   ]
  },
  {
   "cell_type": "code",
   "execution_count": null,
   "metadata": {
    "collapsed": true
   },
   "outputs": [],
   "source": []
  }
 ],
 "metadata": {
  "kernelspec": {
   "display_name": "Python 3",
   "language": "python",
   "name": "python3"
  },
  "language_info": {
   "codemirror_mode": {
    "name": "ipython",
    "version": 3
   },
   "file_extension": ".py",
   "mimetype": "text/x-python",
   "name": "python",
   "nbconvert_exporter": "python",
   "pygments_lexer": "ipython3",
   "version": "3.6.1"
  }
 },
 "nbformat": 4,
 "nbformat_minor": 2
}
