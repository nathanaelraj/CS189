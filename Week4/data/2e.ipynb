{
 "cells": [
  {
   "cell_type": "code",
   "execution_count": 58,
   "metadata": {},
   "outputs": [
    {
     "name": "stdout",
     "output_type": "stream",
     "text": [
      "5\n",
      "[ 3.06638385  0.46437103]\n",
      "25\n",
      "[ 3.00145406  1.88503767]\n",
      "125\n",
      "[ 3.00098196  1.93390486]\n",
      "625\n",
      "[ 3.00003089  1.99598809]\n",
      "[3.066383849083977, 3.0014540559966312, 3.0009819558130415, 3.0000308943708429] [0.46437102972860544, 1.8850376737653998, 1.9339048638982745, 1.9959880860692392]\n"
     ]
    },
    {
     "data": {
      "image/png": "[encoded data removed]",
      "text/plain": [
       "<matplotlib.figure.Figure at 0x7ffa06f6f0b8>"
      ]
     },
     "metadata": {},
     "output_type": "display_data"
    }
   ],
   "source": [
    "import numpy as np\n",
    "\n",
    "def gen_samples(n, w, b):\n",
    "    X = np.arange(20, 20+ n, 1)\n",
    "    Y = X*w + b \n",
    "    Y = Y + (np.random.rand(n)-0.5)\n",
    "    X = np.vstack((X,np.ones(n)))\n",
    "    return X,Y\n",
    "\n",
    "import numpy.linalg as nl\n",
    "\n",
    "w_list = []\n",
    "b_list = []\n",
    "for i in range(1,5):\n",
    "    n = 5**i\n",
    "    print(n)\n",
    "    X,Y = gen_samples(n, 3, 2)\n",
    "    X = np.transpose(X)\n",
    "    W = nl.lstsq(X,Y)[0]\n",
    "    print(W)\n",
    "    w_list.append(W[0])\n",
    "    b_list.append(W[1])\n",
    "print(w_list, b_list)\n",
    "import matplotlib.pyplot as plt\n",
    "plt.scatter(w_list, b_list)\n",
    "plt.axis([1, 4, 1.5, 3.5])\n",
    "plt.show()"
   ]
  },
  {
   "cell_type": "code",
   "execution_count": null,
   "metadata": {
    "collapsed": true
   },
   "outputs": [],
   "source": []
  },
  {
   "cell_type": "code",
   "execution_count": null,
   "metadata": {
    "collapsed": true
   },
   "outputs": [],
   "source": []
  }
 ],
 "metadata": {
  "kernelspec": {
   "display_name": "Python 3",
   "language": "python",
   "name": "python3"
  },
  "language_info": {
   "codemirror_mode": {
    "name": "ipython",
    "version": 3
   },
   "file_extension": ".py",
   "mimetype": "text/x-python",
   "name": "python",
   "nbconvert_exporter": "python",
   "pygments_lexer": "ipython3",
   "version": "3.6.1"
  }
 },
 "nbformat": 4,
 "nbformat_minor": 2
}
