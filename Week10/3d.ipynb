{
 "cells": [
  {
   "cell_type": "code",
   "execution_count": 16,
   "metadata": {},
   "outputs": [
    {
     "name": "stdout",
     "output_type": "stream",
     "text": [
      "1.0\n"
     ]
    },
    {
     "data": {
      "image/png": "[encoded data removed]",
      "text/plain": [
       "<matplotlib.figure.Figure at 0x7f042971d4a8>"
      ]
     },
     "metadata": {},
     "output_type": "display_data"
    }
   ],
   "source": [
    "\"\"\" Tools for calculating Gradient Descent for ||Ax-b||. \"\"\"\n",
    "import matplotlib.pyplot as plt\n",
    "import scipy.io as sio\n",
    "import numpy as np\n",
    "gdmat = sio.loadmat('gradient_descent_data.mat')\n",
    "x = gdmat['x']\n",
    "y = gdmat['y']\n",
    "A = np.matrix(x)   # do not change this until the last part\n",
    "b = np.matrix(y)  # b in the equation ||Ax-b||\n",
    "prob = []\n",
    "for i in range(A.shape[0]):\n",
    "    prob.append((np.linalg.norm(A[i])**2)/(np.linalg.norm(A)**2))\n",
    "prob = np.array(prob)\n",
    "print(sum(prob))\n",
    "def gradient_descent(A, b, total_step_count):\n",
    "    ################################################################################\n",
    "    # TODO(student): Input Variables\n",
    "\n",
    "    initial_position = np.array([[0], [0]])  # position at iteration 0\n",
    "    #step_size = lambda i: 0.005  # step size at iteration i\n",
    "    ################################################################################\n",
    "\n",
    "    # computes desired number of steps of gradient descent\n",
    "    positions = compute_updates(A, b, initial_position, total_step_count)\n",
    "    #w = positions[-1]\n",
    "    #print(w)\n",
    "    #error = mse(A, b, w)\n",
    "    return positions\n",
    "\n",
    "def compute_gradient(A, b, x, j):\n",
    "    \"\"\"Computes the gradient of ||Ax-b|| with respect to x.\"\"\"\n",
    "    return (A[j].dot(x) - b[j]).dot(A[j]).T\n",
    "\n",
    "\n",
    "def compute_update(A, b, x, j):\n",
    "    \"\"\"Computes the new point after the update at x.\"\"\"\n",
    "    step_size = 1/(np.linalg.norm(A[j])**2)\n",
    "    return x - step_size * compute_gradient(A, b, x, j)\n",
    "\n",
    "\n",
    "def compute_updates(A, b, p, total_step_count):\n",
    "    \"\"\"Computes several updates towards the minimum of ||Ax-b|| from p.\n",
    "\n",
    "    Params:\n",
    "        b: in the equation ||Ax-b||\n",
    "        p: initialization point\n",
    "        total_step_count: number of iterations to calculate\n",
    "        step_size: function for determining the step size at step i\n",
    "    \"\"\"\n",
    "    positions = [np.array(p)]\n",
    "    for k in range(total_step_count):\n",
    "        j = np.random.choice(1000, p = prob)\n",
    "        #print(index)\n",
    "        positions.append(compute_update(A, b, positions[-1], j))\n",
    "    return np.array(positions)\n",
    "\n",
    "def mse(A, b, w):\n",
    "    n = b.shape[0]\n",
    "    b_pred = A.dot(w)\n",
    "    error = (np.linalg.norm(b - b_pred)**2)/n\n",
    "    return error\n",
    "\n",
    "mse_errors = []\n",
    "step_size = []\n",
    "positions =  gradient_descent(A, b, 10000)\n",
    "for i in range (10000):\n",
    "    w = positions[i]\n",
    "    mse_errors.append(mse(A, b, w))\n",
    "    step_size.append(i)\n",
    "'''\n",
    "for step, err in zip(step_size, mse_errors):\n",
    "    print(step, err)\n",
    "'''\n",
    "\n",
    "\n",
    "#plt.scatter(positions[:, 0], positions[:, 1], c='blue')\n",
    "#plt.scatter(np.dot(np.linalg.inv(A), b)[0], np.dot(np.linalg.inv(A), b)[1], c='red')\n",
    "plt.plot(step_size, mse_errors, c='blue')\n",
    "plt.plot()\n",
    "plt.show()"
   ]
  },
  {
   "cell_type": "code",
   "execution_count": null,
   "metadata": {
    "collapsed": true
   },
   "outputs": [],
   "source": []
  }
 ],
 "metadata": {
  "kernelspec": {
   "display_name": "Python 3",
   "language": "python",
   "name": "python3"
  },
  "language_info": {
   "codemirror_mode": {
    "name": "ipython",
    "version": 3
   },
   "file_extension": ".py",
   "mimetype": "text/x-python",
   "name": "python",
   "nbconvert_exporter": "python",
   "pygments_lexer": "ipython3",
   "version": "3.6.1"
  }
 },
 "nbformat": 4,
 "nbformat_minor": 2
}
