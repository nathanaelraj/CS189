{
 "cells": [
  {
   "cell_type": "code",
   "execution_count": 16,
   "metadata": {
    "scrolled": true
   },
   "outputs": [
    {
     "data": {
      "image/png": "[encoded data removed]",
      "text/plain": [
       "<matplotlib.figure.Figure at 0x7f09ab507fd0>"
      ]
     },
     "metadata": {},
     "output_type": "display_data"
    }
   ],
   "source": [
    "import matplotlib.pyplot as plt\n",
    "import scipy.io as sio\n",
    "import numpy as np\n",
    "\n",
    "gdmat = sio.loadmat('gradient_descent_data.mat')\n",
    "A = gdmat['x']\n",
    "b = gdmat['y']\n",
    "\n",
    "def gradient_descent(A, b, total_step_count):\n",
    "    initial_position = np.zeros([2, 1])  \n",
    "    step_size = 0.005  \n",
    "    positions = compute_updates(A, b, initial_position, total_step_count, step_size)\n",
    "    return positions\n",
    "\n",
    "def compute_gradient(A, b, x):\n",
    "    return np.dot(A.T, (np.dot(A, x) - b)) / np.linalg.norm(np.dot(A, x) - b)\n",
    "\n",
    "def compute_update(A, b, x, step_count, step_size):\n",
    "    return x - step_size * compute_gradient(A, b, x)\n",
    "\n",
    "def compute_updates(A, b, p, total_step_count, step_size):\n",
    "    positions = [np.array(p)]\n",
    "    for k in range(total_step_count):\n",
    "        positions.append(compute_update(A, b, positions[-1], k, step_size))\n",
    "    return np.array(positions)\n",
    "\n",
    "def mse(A, b, w):\n",
    "    b_pred = np.dot(A, w)\n",
    "    error = np.mean((b - b_pred)**2)\n",
    "    return error\n",
    "\n",
    "mse_errors = []\n",
    "positions = gradient_descent(x, y, 10)\n",
    "for w in positions:\n",
    "    error = mse(A,b,w)\n",
    "    mse_errors.append(error)\n",
    "\n",
    "plt.plot(range(len(positions)), mse_errors, c='blue')\n",
    "\n",
    "plt.show()"
   ]
  },
  {
   "cell_type": "code",
   "execution_count": 13,
   "metadata": {},
   "outputs": [
    {
     "data": {
      "text/plain": [
       "numpy.matrixlib.defmatrix.matrix"
      ]
     },
     "execution_count": 13,
     "metadata": {},
     "output_type": "execute_result"
    }
   ],
   "source": [
    "type(A)"
   ]
  },
  {
   "cell_type": "code",
   "execution_count": 14,
   "metadata": {},
   "outputs": [
    {
     "data": {
      "text/plain": [
       "numpy.ndarray"
      ]
     },
     "execution_count": 14,
     "metadata": {},
     "output_type": "execute_result"
    }
   ],
   "source": [
    "type(x)"
   ]
  },
  {
   "cell_type": "code",
   "execution_count": null,
   "metadata": {
    "collapsed": true
   },
   "outputs": [],
   "source": []
  }
 ],
 "metadata": {
  "kernelspec": {
   "display_name": "Python 3",
   "language": "python",
   "name": "python3"
  },
  "language_info": {
   "codemirror_mode": {
    "name": "ipython",
    "version": 3
   },
   "file_extension": ".py",
   "mimetype": "text/x-python",
   "name": "python",
   "nbconvert_exporter": "python",
   "pygments_lexer": "ipython3",
   "version": "3.6.1"
  }
 },
 "nbformat": 4,
 "nbformat_minor": 2
}
