{
 "cells": [
  {
   "cell_type": "markdown",
   "metadata": {},
   "source": [
    "# part a"
   ]
  },
  {
   "cell_type": "code",
   "execution_count": 2,
   "metadata": {},
   "outputs": [
    {
     "data": {
      "image/png": "[encoded data removed]",
      "text/plain": [
       "<matplotlib.figure.Figure at 0x7f73dc71e5f8>"
      ]
     },
     "metadata": {},
     "output_type": "display_data"
    }
   ],
   "source": [
    "import matplotlib.pyplot as plt\n",
    "import scipy.io as sio\n",
    "import numpy as np\n",
    "\n",
    "gdmat = sio.loadmat('gradient_descent_data.mat')\n",
    "A = gdmat['x']\n",
    "b = gdmat['y']\n",
    "\n",
    "A2 = 0.1* A[:,1]**3\n",
    "b = (b.reshape((1000)) + A2).reshape((1000,1))\n",
    "\n",
    "def gradient_descent(A, b, total_step_count):\n",
    "    initial_position = np.zeros([2, 1])  \n",
    "    step_size = 0.005  \n",
    "    positions = compute_updates(A, b, initial_position, total_step_count, step_size)\n",
    "    return positions\n",
    "\n",
    "def compute_gradient(A, b, x):\n",
    "    return np.dot(A.T, (np.dot(A, x) - b)) / np.linalg.norm(np.dot(A, x) - b)\n",
    "\n",
    "def compute_update(A, b, x, step_count, step_size):\n",
    "    return x - step_size * compute_gradient(A, b, x)\n",
    "\n",
    "def compute_updates(A, b, p, total_step_count, step_size):\n",
    "    positions = [np.array(p)]\n",
    "    for k in range(total_step_count):\n",
    "        positions.append(compute_update(A, b, positions[-1], k, step_size))\n",
    "    return np.array(positions)\n",
    "\n",
    "def mse(A, b, w):\n",
    "    b_pred = np.dot(A, w)\n",
    "    error = np.mean((b - b_pred)**2)\n",
    "    return error\n",
    "\n",
    "mse_errors = []\n",
    "positions = gradient_descent(A, b, 10)\n",
    "for w in positions:\n",
    "    error = mse(A,b,w)\n",
    "    mse_errors.append(error)\n",
    "\n",
    "plt.plot(range(len(positions)), mse_errors, c='blue')\n",
    "\n",
    "plt.show()"
   ]
  },
  {
   "cell_type": "markdown",
   "metadata": {},
   "source": [
    "# part b"
   ]
  },
  {
   "cell_type": "code",
   "execution_count": 3,
   "metadata": {},
   "outputs": [
    {
     "data": {
      "image/png": "[encoded data removed]",
      "text/plain": [
       "<matplotlib.figure.Figure at 0x7f73b2745630>"
      ]
     },
     "metadata": {},
     "output_type": "display_data"
    }
   ],
   "source": [
    "import matplotlib.pyplot as plt\n",
    "import scipy.io as sio\n",
    "import numpy as np\n",
    "\n",
    "gdmat = sio.loadmat('gradient_descent_data.mat')\n",
    "A = gdmat['x']\n",
    "b = gdmat['y']\n",
    "\n",
    "A2 = 0.1* A[:,1]**3\n",
    "b = (b.reshape((1000)) + A2).reshape((1000,1))\n",
    "\n",
    "\n",
    "def gradient_descent(A, b, total_step_count):\n",
    "    initial_position = np.zeros([2, 1])  \n",
    "    step_size =  0.005\n",
    "    positions = compute_updates(A, b, initial_position, total_step_count, step_size)\n",
    "    return positions\n",
    "\n",
    "def compute_gradient(A, b, x):\n",
    "    return (A*(A*x - b)) / np.linalg.norm(A*x - b)\n",
    "\n",
    "def compute_update(A, b, x, step_size):\n",
    "    return x - step_size * compute_gradient(A, b, x)\n",
    "\n",
    "def compute_updates(A, b, p, total_step_count, step_size):\n",
    "    positions = [np.array(p)]\n",
    "    for k in range(total_step_count):\n",
    "        index = int(1000 * np.random.rand())\n",
    "        positions.append(compute_update(A[index], b[index], positions[-1], step_size))\n",
    "    return positions\n",
    "\n",
    "def mse(A, b, w):\n",
    "    b_pred = np.dot(A, w)\n",
    "    error = np.mean((b - b_pred)**2)\n",
    "    return error\n",
    "\n",
    "mse_errors = []\n",
    "positions =  gradient_descent(A, b, 10000)\n",
    "\n",
    "for w in positions:\n",
    "    mse_errors.append(mse(A, b, w))\n",
    "\n",
    "plt.plot(range(len(positions)), mse_errors, c='blue')\n",
    "plt.plot()\n",
    "plt.show()"
   ]
  },
  {
   "cell_type": "markdown",
   "metadata": {},
   "source": [
    "# part d"
   ]
  },
  {
   "cell_type": "code",
   "execution_count": 6,
   "metadata": {},
   "outputs": [
    {
     "name": "stdout",
     "output_type": "stream",
     "text": [
      "1.0\n"
     ]
    },
    {
     "data": {
      "image/png": "[encoded data removed]",
      "text/plain": [
       "<matplotlib.figure.Figure at 0x7f73aef0be10>"
      ]
     },
     "metadata": {},
     "output_type": "display_data"
    }
   ],
   "source": [
    "\"\"\" Tools for calculating Gradient Descent for ||Ax-b||. \"\"\"\n",
    "import matplotlib.pyplot as plt\n",
    "import scipy.io as sio\n",
    "import numpy as np\n",
    "gdmat = sio.loadmat('gradient_descent_data.mat')\n",
    "x = gdmat['x']\n",
    "y = gdmat['y']\n",
    "A = np.matrix(x)   # do not change this until the last part\n",
    "A2 = 0.1* x[:,1]**3\n",
    "y = (y.reshape((1000)) + A2).reshape((1000,1))\n",
    "b = np.matrix(y)\n",
    "prob = []\n",
    "for i in range(A.shape[0]):\n",
    "    prob.append((np.linalg.norm(A[i])**2)/(np.linalg.norm(A)**2))\n",
    "prob = np.array(prob)\n",
    "print(sum(prob))\n",
    "def gradient_descent(A, b, total_step_count):\n",
    "    ################################################################################\n",
    "    # TODO(student): Input Variables\n",
    "\n",
    "    initial_position = np.array([[0], [0]])  # position at iteration 0\n",
    "    #step_size = lambda i: 0.005  # step size at iteration i\n",
    "    ################################################################################\n",
    "\n",
    "    # computes desired number of steps of gradient descent\n",
    "    positions = compute_updates(A, b, initial_position, total_step_count)\n",
    "    #w = positions[-1]\n",
    "    #print(w)\n",
    "    #error = mse(A, b, w)\n",
    "    return positions\n",
    "\n",
    "def compute_gradient(A, b, x, j):\n",
    "    \"\"\"Computes the gradient of ||Ax-b|| with respect to x.\"\"\"\n",
    "    return (A[j].dot(x) - b[j]).dot(A[j]).T\n",
    "\n",
    "\n",
    "def compute_update(A, b, x, j):\n",
    "    \"\"\"Computes the new point after the update at x.\"\"\"\n",
    "    step_size = 1/(np.linalg.norm(A[j])**2)\n",
    "    return x - step_size * compute_gradient(A, b, x, j)\n",
    "\n",
    "\n",
    "def compute_updates(A, b, p, total_step_count):\n",
    "    \"\"\"Computes several updates towards the minimum of ||Ax-b|| from p.\n",
    "\n",
    "    Params:\n",
    "        b: in the equation ||Ax-b||\n",
    "        p: initialization point\n",
    "        total_step_count: number of iterations to calculate\n",
    "        step_size: function for determining the step size at step i\n",
    "    \"\"\"\n",
    "    positions = [np.array(p)]\n",
    "    for k in range(total_step_count):\n",
    "        j = np.random.choice(1000, p = prob)\n",
    "        #print(index)\n",
    "        positions.append(compute_update(A, b, positions[-1], j))\n",
    "    return np.array(positions)\n",
    "\n",
    "def mse(A, b, w):\n",
    "    n = b.shape[0]\n",
    "    b_pred = A.dot(w)\n",
    "    error = (np.linalg.norm(b - b_pred)**2)/n\n",
    "    return error\n",
    "\n",
    "mse_errors = []\n",
    "step_size = []\n",
    "positions =  gradient_descent(A, b, 10000)\n",
    "for i in range (10000):\n",
    "    w = positions[i]\n",
    "    mse_errors.append(mse(A, b, w))\n",
    "    step_size.append(i)\n",
    "'''\n",
    "for step, err in zip(step_size, mse_errors):\n",
    "    print(step, err)\n",
    "'''\n",
    "\n",
    "\n",
    "#plt.scatter(positions[:, 0], positions[:, 1], c='blue')\n",
    "#plt.scatter(np.dot(np.linalg.inv(A), b)[0], np.dot(np.linalg.inv(A), b)[1], c='red')\n",
    "plt.plot(step_size, mse_errors, c='blue')\n",
    "plt.plot()\n",
    "plt.show()"
   ]
  },
  {
   "cell_type": "code",
   "execution_count": null,
   "metadata": {
    "collapsed": true
   },
   "outputs": [],
   "source": []
  }
 ],
 "metadata": {
  "kernelspec": {
   "display_name": "Python 3",
   "language": "python",
   "name": "python3"
  },
  "language_info": {
   "codemirror_mode": {
    "name": "ipython",
    "version": 3
   },
   "file_extension": ".py",
   "mimetype": "text/x-python",
   "name": "python",
   "nbconvert_exporter": "python",
   "pygments_lexer": "ipython3",
   "version": "3.6.1"
  }
 },
 "nbformat": 4,
 "nbformat_minor": 2
}
