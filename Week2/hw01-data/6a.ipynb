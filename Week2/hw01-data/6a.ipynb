{
 "cells": [
  {
   "cell_type": "code",
   "execution_count": 12,
   "metadata": {},
   "outputs": [
    {
     "data": {
      "text/plain": [
       "{'__globals__': [],\n",
       " '__header__': b'MATLAB 5.0 MAT-file Platform: posix, Created on: Fri Aug 25 17:54:50 2017',\n",
       " '__version__': '1.0',\n",
       " 'u': array([[  5.98066469, -11.45799395,  -6.33792819, -12.48515789,\n",
       "          -9.21750413,   0.69707314,  -5.67133555,  -8.35498665,\n",
       "          -4.70686069, -11.85861643,   1.88585037, -12.11406375,\n",
       "          -1.77952318,  -7.70467878,  -6.3471562 ,  -0.79584288,\n",
       "          13.12316549, -12.62904799,  -4.31472634,  -9.95007132,\n",
       "          -1.35023221,  -1.5463522 ,  -2.44924638,   0.45144804,\n",
       "           2.64791665,  -9.08013996,   3.76945409, -14.42094903,\n",
       "          -9.2536847 ,  -9.66631814]]),\n",
       " 'x': array([[ 12.68051666,  11.85079213,  12.57879102,  12.96077624,\n",
       "          13.70033598,  14.19188164,  13.86688672,  14.1070198 ,\n",
       "          14.40761609,  14.53815072,  15.22656263,  14.72945634,\n",
       "          15.40490862,  15.27304691,  15.68524558,  15.92162741,\n",
       "          15.58483234,  14.01864395,  14.79112641,  14.87446949,\n",
       "          15.49159011,  15.19749864,  15.01867933,  14.88452854,\n",
       "          14.49446113,  13.8940404 ,  14.46520876,  13.85037817,\n",
       "          14.76837724,  15.16425953]])}"
      ]
     },
     "execution_count": 12,
     "metadata": {},
     "output_type": "execute_result"
    }
   ],
   "source": [
    "import numpy.linalg as nl\n",
    "import numpy as np\n",
    "\n",
    "import scipy.io as sio\n",
    "\n",
    "mat_contents = sio.loadmat('system_identification_programming_a.mat')\n",
    "mat_contents"
   ]
  },
  {
   "cell_type": "code",
   "execution_count": 51,
   "metadata": {},
   "outputs": [
    {
     "data": {
      "text/plain": [
       "array([[ 12.68051666,   5.98066469],\n",
       "       [ 11.85079213, -11.45799395],\n",
       "       [ 12.57879102,  -6.33792819],\n",
       "       [ 12.96077624, -12.48515789],\n",
       "       [ 13.70033598,  -9.21750413],\n",
       "       [ 14.19188164,   0.69707314],\n",
       "       [ 13.86688672,  -5.67133555],\n",
       "       [ 14.1070198 ,  -8.35498665],\n",
       "       [ 14.40761609,  -4.70686069],\n",
       "       [ 14.53815072, -11.85861643],\n",
       "       [ 15.22656263,   1.88585037],\n",
       "       [ 14.72945634, -12.11406375],\n",
       "       [ 15.40490862,  -1.77952318],\n",
       "       [ 15.27304691,  -7.70467878],\n",
       "       [ 15.68524558,  -6.3471562 ],\n",
       "       [ 15.92162741,  -0.79584288],\n",
       "       [ 15.58483234,  13.12316549],\n",
       "       [ 14.01864395, -12.62904799],\n",
       "       [ 14.79112641,  -4.31472634],\n",
       "       [ 14.87446949,  -9.95007132],\n",
       "       [ 15.49159011,  -1.35023221],\n",
       "       [ 15.19749864,  -1.5463522 ],\n",
       "       [ 15.01867933,  -2.44924638],\n",
       "       [ 14.88452854,   0.45144804],\n",
       "       [ 14.49446113,   2.64791665],\n",
       "       [ 13.8940404 ,  -9.08013996],\n",
       "       [ 14.46520876,   3.76945409],\n",
       "       [ 13.85037817, -14.42094903],\n",
       "       [ 14.76837724,  -9.2536847 ]])"
      ]
     },
     "execution_count": 51,
     "metadata": {},
     "output_type": "execute_result"
    }
   ],
   "source": [
    "#Prepare A\n",
    "u = mat_contents['u']\n",
    "x = mat_contents['x']\n",
    "xu = np.append(x,u,axis=0)\n",
    "a = np.column_stack(xu)\n",
    "a = np.delete(a, len(a) -1, 0)\n",
    "a"
   ]
  },
  {
   "cell_type": "code",
   "execution_count": 46,
   "metadata": {
    "scrolled": true
   },
   "outputs": [
    {
     "data": {
      "text/plain": [
       "array([ 11.85079213,  12.57879102,  12.96077624,  13.70033598,\n",
       "        14.19188164,  13.86688672,  14.1070198 ,  14.40761609,\n",
       "        14.53815072,  15.22656263,  14.72945634,  15.40490862,\n",
       "        15.27304691,  15.68524558,  15.92162741,  15.58483234,\n",
       "        14.01864395,  14.79112641,  14.87446949,  15.49159011,\n",
       "        15.19749864,  15.01867933,  14.88452854,  14.49446113,\n",
       "        13.8940404 ,  14.46520876,  13.85037817,  14.76837724,  15.16425953])"
      ]
     },
     "execution_count": 46,
     "metadata": {},
     "output_type": "execute_result"
    }
   ],
   "source": [
    "#Prepare B\n",
    "b = np.delete(x, 0)\n",
    "b"
   ]
  },
  {
   "cell_type": "code",
   "execution_count": 49,
   "metadata": {},
   "outputs": [
    {
     "data": {
      "text/plain": [
       "-0.087753218773456459"
      ]
     },
     "execution_count": 49,
     "metadata": {},
     "output_type": "execute_result"
    }
   ],
   "source": [
    "import numpy.linalg as nl\n",
    "A, B = nl.lstsq(a, b)[0]\n",
    "#The parameters of the line as in the question are A and B respectively."
   ]
  },
  {
   "cell_type": "code",
   "execution_count": null,
   "metadata": {
    "collapsed": true
   },
   "outputs": [],
   "source": []
  }
 ],
 "metadata": {
  "kernelspec": {
   "display_name": "Python 3",
   "language": "python",
   "name": "python3"
  },
  "language_info": {
   "codemirror_mode": {
    "name": "ipython",
    "version": 3
   },
   "file_extension": ".py",
   "mimetype": "text/x-python",
   "name": "python",
   "nbconvert_exporter": "python",
   "pygments_lexer": "ipython3",
   "version": "3.6.1"
  }
 },
 "nbformat": 4,
 "nbformat_minor": 2
}
