{
 "cells": [
  {
   "cell_type": "code",
   "execution_count": 1,
   "metadata": {},
   "outputs": [
    {
     "data": {
      "text/plain": [
       "{'__globals__': [],\n",
       " '__header__': b'MATLAB 5.0 MAT-file Platform: posix, Created on: Fri Aug 25 12:31:10 2017',\n",
       " '__version__': '1.0',\n",
       " 'x': array([[ 204.621384,  751.405152,  815.15712 , ...,  571.402464,\n",
       "          729.941136,  840.818232]]),\n",
       " 'xd': array([[ -0.08036784, -19.91043788, -14.04466603, ..., -20.60479645,\n",
       "         -15.59719869, -18.62205318]]),\n",
       " 'xdd': array([[-0.21320313,  0.03931307, -0.5287676 , ..., -0.51800316,\n",
       "         -0.23932858,  0.54781595]]),\n",
       " 'xdp': array([[  1.88615928, -16.85539801, -14.25206718, ..., -21.03958353,\n",
       "         -15.65744565, -19.07328883]]),\n",
       " 'xp': array([[ 257.431032,  775.429488,  835.173336, ...,  595.612728,\n",
       "          742.526328,  852.742008]])}"
      ]
     },
     "execution_count": 1,
     "metadata": {},
     "output_type": "execute_result"
    }
   ],
   "source": [
    "import numpy.linalg as nl\n",
    "import numpy as np\n",
    "\n",
    "import scipy.io as sio\n",
    "\n",
    "mat_contents = sio.loadmat('system_identification_train.mat')\n",
    "mat_contents\n"
   ]
  },
  {
   "cell_type": "code",
   "execution_count": 17,
   "metadata": {},
   "outputs": [
    {
     "data": {
      "text/plain": [
       "(40000, 4)"
      ]
     },
     "execution_count": 17,
     "metadata": {},
     "output_type": "execute_result"
    }
   ],
   "source": [
    "#prepare a\n",
    "x = mat_contents['x']\n",
    "xdd = mat_contents['xdd']\n",
    "xd = mat_contents['xd']\n",
    "xdp = mat_contents['xdp']\n",
    "xp = mat_contents['xp']\n",
    "xd = xd + 29.0576\n",
    "xdp = xdp + 29.0576\n",
    "a = np.vstack((x,xd,xp,xdp))\n",
    "a = np.transpose(a)\n",
    "a.shape\n",
    "\n"
   ]
  },
  {
   "cell_type": "code",
   "execution_count": 18,
   "metadata": {},
   "outputs": [
    {
     "data": {
      "text/plain": [
       "(40000, 1)"
      ]
     },
     "execution_count": 18,
     "metadata": {},
     "output_type": "execute_result"
    }
   ],
   "source": [
    "#Prepare B\n",
    "b = xdd\n",
    "b = np.transpose(b)\n",
    "b.shape"
   ]
  },
  {
   "cell_type": "code",
   "execution_count": 19,
   "metadata": {},
   "outputs": [
    {
     "data": {
      "text/plain": [
       "array([[-0.01150047],\n",
       "       [-0.31465897],\n",
       "       [ 0.01154398],\n",
       "       [ 0.28080008]])"
      ]
     },
     "execution_count": 19,
     "metadata": {},
     "output_type": "execute_result"
    }
   ],
   "source": [
    "import numpy.linalg as nl\n",
    "A = nl.lstsq(a, b)[0]\n",
    "A\n",
    "#The parameters of the line as in the question are A and B respectively."
   ]
  },
  {
   "cell_type": "code",
   "execution_count": null,
   "metadata": {
    "collapsed": true
   },
   "outputs": [],
   "source": []
  }
 ],
 "metadata": {
  "kernelspec": {
   "display_name": "Python 3",
   "language": "python",
   "name": "python3"
  },
  "language_info": {
   "codemirror_mode": {
    "name": "ipython",
    "version": 3
   },
   "file_extension": ".py",
   "mimetype": "text/x-python",
   "name": "python",
   "nbconvert_exporter": "python",
   "pygments_lexer": "ipython3",
   "version": "3.6.1"
  }
 },
 "nbformat": 4,
 "nbformat_minor": 2
}
