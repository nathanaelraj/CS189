{
 "cells": [
  {
   "cell_type": "markdown",
   "metadata": {},
   "source": [
    "# Code and Values for Question 2C"
   ]
  },
  {
   "cell_type": "code",
   "execution_count": 58,
   "metadata": {
    "scrolled": true
   },
   "outputs": [
    {
     "name": "stdout",
     "output_type": "stream",
     "text": [
      "Sigma \t\t\t\t\t Mu\n",
      "\n",
      "[[ 139.96850145   -5.23621416]\n",
      " [  -5.23621416  110.37464612]] \t [ 14.86386061   5.09534284] \n",
      "\n",
      "[[ 136.40485397   25.1262464 ]\n",
      " [  25.1262464   119.45532448]] \t [ 15.3745544    5.31787646] \n",
      "\n",
      "[[ 131.67869995  -24.50694813]\n",
      " [ -24.50694813  114.40296349]] \t [ 14.96190147   5.12444096] \n",
      "\n"
     ]
    }
   ],
   "source": [
    "import numpy as np\n",
    "import matplotlib.pyplot as plt\n",
    "\n",
    "def MLE_mu(X):\n",
    "    n = X.shape[0]\n",
    "    tot = np.sum(X,0)\n",
    "    return tot/n\n",
    "\n",
    "def MLE_sigma(X):\n",
    "    mu = MLE_mu(X)\n",
    "    mu = np.matrix(mu).T\n",
    "    n = X.shape[0]\n",
    "    tot = np.matrix([[0,0],[0,0]],dtype='float')\n",
    "    for xi in X:\n",
    "        m = (xi - mu).T.dot( (xi - mu) )    \n",
    "        tot = tot + m\n",
    "    return tot/n\n",
    "\n",
    "sigma_list = [ [[20, 0], [0, 10]], [[20,14],[14,10]],  [[20,-14],[-14,10]] ]\n",
    "mu = [15, 5]\n",
    "print (\"Sigma \\t\\t\\t\\t\\t Mu\\n\")\n",
    "for sigma in sigma_list:\n",
    "    samples = np.random.multivariate_normal(mu, sigma, size=100)\n",
    "    print(MLE_sigma(samples), '\\t', MLE_mu(samples), '\\n')"
   ]
  },
  {
   "cell_type": "code",
   "execution_count": null,
   "metadata": {
    "collapsed": true
   },
   "outputs": [],
   "source": []
  }
 ],
 "metadata": {
  "kernelspec": {
   "display_name": "Python 3",
   "language": "python",
   "name": "python3"
  },
  "language_info": {
   "codemirror_mode": {
    "name": "ipython",
    "version": 3
   },
   "file_extension": ".py",
   "mimetype": "text/x-python",
   "name": "python",
   "nbconvert_exporter": "python",
   "pygments_lexer": "ipython3",
   "version": "3.6.1"
  }
 },
 "nbformat": 4,
 "nbformat_minor": 2
}
