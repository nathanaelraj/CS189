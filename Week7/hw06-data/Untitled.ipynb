{
 "cells": [
  {
   "cell_type": "code",
   "execution_count": 1,
   "metadata": {},
   "outputs": [
    {
     "name": "stdout",
     "output_type": "stream",
     "text": [
      "[[ 0.   0. ]\n",
      " [ 0.6  0.8]\n",
      " [ 1.2  1.6]\n",
      " [ 1.8  2.4]\n",
      " [ 2.4  3.2]\n",
      " [ 3.   4. ]\n",
      " [ 3.6  4.8]\n",
      " [ 4.2  5.6]\n",
      " [ 4.8  6.4]\n",
      " [ 4.2  5.6]\n",
      " [ 4.8  6.4]]\n",
      "[ 4.5  6. ]\n"
     ]
    },
    {
     "data": {
      "image/png": "[encoded data removed]",
      "text/plain": [
       "<matplotlib.figure.Figure at 0x7faab811f3c8>"
      ]
     },
     "metadata": {},
     "output_type": "display_data"
    }
   ],
   "source": [
    "\"\"\" Tools for calculating Gradient Descent for ||Ax-b||. \"\"\"\n",
    "import matplotlib.pyplot as plt\n",
    "import numpy as np\n",
    "\n",
    "\n",
    "def main():\n",
    "    ################################################################################\n",
    "    # TODO(student): Input Variables\n",
    "    A = np.array([[1, 0], [0, 1]])  # do not change this until the last part\n",
    "    b = np.array([4.5, 6])  # b in the equation ||Ax-b||\n",
    "    initial_position = np.array([0, 0])  # position at iteration 0\n",
    "    total_step_count = 10  # number of GD steps to take\n",
    "    step_size = lambda i: 1  # step size at iteration i\n",
    "    ################################################################################\n",
    "\n",
    "    # computes desired number of steps of gradient descent\n",
    "    positions = compute_updates(A, b, initial_position, total_step_count, step_size)\n",
    "\n",
    "    # print out the values of the x_i\n",
    "    print(positions)\n",
    "    print(np.dot(np.linalg.inv(A), b))\n",
    "\n",
    "    # plot the values of the x_i\n",
    "    plt.scatter(positions[:, 0], positions[:, 1], c='blue')\n",
    "    plt.scatter(np.dot(np.linalg.inv(A), b)[0],\n",
    "                np.dot(np.linalg.inv(A), b)[1], c='red')\n",
    "    plt.plot()\n",
    "    plt.show()\n",
    "\n",
    "\n",
    "def compute_gradient(A, b, x):\n",
    "    \"\"\"Computes the gradient of ||Ax-b|| with respect to x.\"\"\"\n",
    "    return np.dot(A.T, (np.dot(A, x) - b)) / np.linalg.norm(np.dot(A, x) - b)\n",
    "\n",
    "\n",
    "def compute_update(A, b, x, step_count, step_size):\n",
    "    \"\"\"Computes the new point after the update at x.\"\"\"\n",
    "    return x - step_size(step_count) * compute_gradient(A, b, x)\n",
    "\n",
    "\n",
    "def compute_updates(A, b, p, total_step_count, step_size):\n",
    "    \"\"\"Computes several updates towards the minimum of ||Ax-b|| from p.\n",
    "\n",
    "    Params:\n",
    "        b: in the equation ||Ax-b||\n",
    "        p: initialization point\n",
    "        total_step_count: number of iterations to calculate\n",
    "        step_size: function for determining the step size at step i\n",
    "    \"\"\"\n",
    "    positions = [np.array(p)]\n",
    "    for k in range(total_step_count):\n",
    "        positions.append(compute_update(A, b, positions[-1], k, step_size))\n",
    "    return np.array(positions)\n",
    "\n",
    "\n",
    "main()"
   ]
  },
  {
   "cell_type": "code",
   "execution_count": null,
   "metadata": {
    "collapsed": true
   },
   "outputs": [],
   "source": []
  }
 ],
 "metadata": {
  "kernelspec": {
   "display_name": "Python 3",
   "language": "python",
   "name": "python3"
  },
  "language_info": {
   "codemirror_mode": {
    "name": "ipython",
    "version": 3
   },
   "file_extension": ".py",
   "mimetype": "text/x-python",
   "name": "python",
   "nbconvert_exporter": "python",
   "pygments_lexer": "ipython3",
   "version": "3.6.1"
  }
 },
 "nbformat": 4,
 "nbformat_minor": 2
}
