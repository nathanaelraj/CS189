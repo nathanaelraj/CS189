{
 "cells": [
  {
   "cell_type": "markdown",
   "metadata": {},
   "source": [
    "# 4a"
   ]
  },
  {
   "cell_type": "code",
   "execution_count": 2,
   "metadata": {
    "collapsed": true
   },
   "outputs": [],
   "source": [
    "import pickle\n",
    "from scipy.linalg import eig\n",
    "from scipy.linalg import sqrtm\n",
    "from numpy.linalg import inv\n",
    "from numpy.linalg import svd\n",
    "import matplotlib.pyplot as plt\n",
    "from sklearn.preprocessing import StandardScaler\n",
    "import numpy as np\n",
    "\n",
    "x_train = pickle.load(open('x_train.p', 'rb'))\n",
    "y_train = pickle.load(open('y_train.p', 'rb'))\n",
    "x_test  = pickle.load(open('x_test.p', 'rb'))\n",
    "y_test  = pickle.load(open('y_test.p', 'rb'))\n",
    "def sample_mean(samples):\n",
    "    return np.average(samples, axis=0)\n",
    "\n",
    "def sample_variance(X, Y):\n",
    "    mean_x = sample_mean(X)\n",
    "    mean_y = sample_mean(Y)\n",
    "    return 1/956 * np.sum(np.matrix((X[i]-mean_x)).T * np.matrix((Y[i]-mean_y)) for i in range(956))\n"
   ]
  },
  {
   "cell_type": "markdown",
   "metadata": {},
   "source": [
    "# 4b"
   ]
  },
  {
   "cell_type": "code",
   "execution_count": 3,
   "metadata": {},
   "outputs": [
    {
     "name": "stderr",
     "output_type": "stream",
     "text": [
      "/mnt/Data/anaconda3/lib/python3.6/site-packages/numpy/core/numeric.py:531: ComplexWarning: Casting complex values to real discards the imaginary part\n",
      "  return array(a, dtype, copy=False, order=order)\n"
     ]
    },
    {
     "data": {
      "image/png": "[encoded data removed]",
      "text/plain": [
       "<matplotlib.figure.Figure at 0x7f8a64300cc0>"
      ]
     },
     "metadata": {},
     "output_type": "display_data"
    }
   ],
   "source": [
    "def flatten(matrix):\n",
    "    flattened = np.empty((len(matrix),15*15*3))\n",
    "    for i, x in enumerate(matrix):\n",
    "        j = 0\n",
    "        for x_ in x:\n",
    "            for x__ in x_: \n",
    "                for x___ in x__:\n",
    "                    flattened[i][j] = float(x___) *2/255 -1\n",
    "                    j += 1\n",
    "    return flattened\n",
    "              \n",
    "\n",
    "\n",
    "X = flatten(x_train)\n",
    "Y = flatten(y_train)\n",
    "X_test = flatten(x_test)\n",
    "Y_test = flatten(y_test)\n",
    "sigma_xx = sample_variance(X, X)\n",
    "sigma_xy = sample_variance(X, Y)\n",
    "sigma_yy = sample_variance(Y, Y)\n",
    "eigenvalues = eig( inv(sqrtm(sigma_xx + 0.00001*np.identity(675))).dot(sigma_xy).dot(inv(sqrtm(sigma_yy + 0.00001*np.identity(675)))))\n",
    "plt.plot(eigenvalues[0])\n",
    "plt.show()"
   ]
  },
  {
   "cell_type": "markdown",
   "metadata": {},
   "source": [
    "# 4c"
   ]
  },
  {
   "cell_type": "code",
   "execution_count": 4,
   "metadata": {},
   "outputs": [
    {
     "name": "stderr",
     "output_type": "stream",
     "text": [
      "/mnt/Data/anaconda3/lib/python3.6/site-packages/ipykernel_launcher.py:5: ComplexWarning: Casting complex values to real discards the imaginary part\n",
      "  \"\"\"\n"
     ]
    }
   ],
   "source": [
    "import cv2\n",
    "def plot_image (count, vector) :\n",
    "    vector = (( vector +1.0) /2.0) *255.0\n",
    "    vector = np . reshape ( vector ,(15 ,15 ,3) )\n",
    "    p = vector.astype ('uint8')\n",
    "    p = cv2.resize (p,(100 ,100) ) \n",
    "    cv2.imwrite ('eigenface' +str(count)+ '.png' ,p)\n",
    "U = eigenvalues[1]\n",
    "plot_image('4c', U[0].dot(X[0])*U[0])"
   ]
  },
  {
   "cell_type": "markdown",
   "metadata": {},
   "source": [
    "# 4d"
   ]
  },
  {
   "cell_type": "code",
   "execution_count": 5,
   "metadata": {},
   "outputs": [
    {
     "data": {
      "image/png": "[encoded data removed]",
      "text/plain": [
       "<matplotlib.figure.Figure at 0x7f8a8deec390>"
      ]
     },
     "metadata": {},
     "output_type": "display_data"
    }
   ],
   "source": [
    "def ridge(X, U, l):\n",
    "    sizeidentity = X.shape[1]\n",
    "    pi = inv(X.T.dot(X) + l*np.identity(sizeidentity) ).dot(X.T).dot(U)\n",
    "    return pi\n",
    "\n",
    "import numpy.linalg as nl \n",
    "def square_eucl_dist(pi, X, U):\n",
    "    total_dist = 0\n",
    "    for x, u in zip(X, U):\n",
    "        dist = nl.norm(x.dot(pi) - u)\n",
    "        total_dist += np.square(dist)\n",
    "    return total_dist\n",
    "dimensions = [0,50,100,150,200,250,300,350,400,450,500,650]\n",
    "error = []\n",
    "for k in dimensions:\n",
    "    Pk = U[0:k].T\n",
    "    w = ridge(X.dot(Pk),Y,0.00001)\n",
    "    err = square_eucl_dist(w, X_test.dot(Pk), Y_test)\n",
    "    error.append(err)\n",
    "plt.plot(dimensions, error)\n",
    "plt.show()"
   ]
  },
  {
   "cell_type": "markdown",
   "metadata": {},
   "source": [
    "# 4e"
   ]
  },
  {
   "cell_type": "code",
   "execution_count": 6,
   "metadata": {},
   "outputs": [
    {
     "name": "stderr",
     "output_type": "stream",
     "text": [
      "/mnt/Data/anaconda3/lib/python3.6/site-packages/ipykernel_launcher.py:5: ComplexWarning: Casting complex values to real discards the imaginary part\n",
      "  \"\"\"\n"
     ]
    }
   ],
   "source": [
    "for i in range(1,5):\n",
    "    plot_image(str(i)+'Predicted', X_test[i].dot(Pk).dot(w))\n",
    "    plot_image(str(i)+'Mooney', X_test[i])\n",
    "    plot_image(str(i)+'GroundTruth', Y_test[i])\n"
   ]
  },
  {
   "cell_type": "code",
   "execution_count": null,
   "metadata": {
    "collapsed": true
   },
   "outputs": [],
   "source": []
  }
 ],
 "metadata": {
  "kernelspec": {
   "display_name": "Python 3",
   "language": "python",
   "name": "python3"
  },
  "language_info": {
   "codemirror_mode": {
    "name": "ipython",
    "version": 3
   },
   "file_extension": ".py",
   "mimetype": "text/x-python",
   "name": "python",
   "nbconvert_exporter": "python",
   "pygments_lexer": "ipython3",
   "version": "3.6.1"
  }
 },
 "nbformat": 4,
 "nbformat_minor": 2
}
